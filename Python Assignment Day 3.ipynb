{
 "cells": [
  {
   "cell_type": "markdown",
   "metadata": {},
   "source": [
    "# Assignment Day 3"
   ]
  },
  {
   "cell_type": "markdown",
   "metadata": {},
   "source": [
    "# Question 1:"
   ]
  },
  {
   "cell_type": "markdown",
   "metadata": {},
   "source": [
    "Use IF ELSE and ELIF to write a program in python for your Report Cards."
   ]
  },
  {
   "cell_type": "code",
   "execution_count": 11,
   "metadata": {},
   "outputs": [
    {
     "name": "stdout",
     "output_type": "stream",
     "text": [
      "Enter the marks of English: 96\n",
      "Enter the marks of Maths: 90\n",
      "Enter the marks of Science: 91\n",
      "Enter the marks of Hindi: 89\n",
      "Enter the marks of Social studies: 90\n",
      "Your Grade is: \n",
      "Grade : A\n"
     ]
    }
   ],
   "source": [
    "sub1=int(input(\"Enter the marks of English: \"))\n",
    "sub2=int(input(\"Enter the marks of Maths: \"))\n",
    "sub3=int(input(\"Enter the marks of Science: \"))\n",
    "sub4=int(input(\"Enter the marks of Hindi: \"))\n",
    "sub5=int(input(\"Enter the marks of Social studies: \"))\n",
    "avg=(sub1+sub2+sub3+sub4+sub5)/5\n",
    "print(\"Your Grade is: \")\n",
    "if(avg>=90):\n",
    "    print(\"Grade : A\")\n",
    "elif(avg>=80 and avg<90):\n",
    "    print(\"Grade : B\")\n",
    "elif(avg>=70 and avg<80):\n",
    "    print(\"Grade : C\")\n",
    "elif(avg>=60 and avg<70):\n",
    "    print(\"Grade : D\")\n",
    "else:\n",
    "    print(\"Your Failed....\")"
   ]
  },
  {
   "cell_type": "code",
   "execution_count": 12,
   "metadata": {},
   "outputs": [
    {
     "name": "stdout",
     "output_type": "stream",
     "text": [
      "Enter the marks of English: 91\n",
      "Enter the marks of Maths: 88\n",
      "Enter the marks of Science: 78\n",
      "Enter the marks of Hindi: 84\n",
      "Enter the marks of Social studies: 80\n",
      "Your Grade is: \n",
      "Grade : B\n"
     ]
    }
   ],
   "source": [
    "sub1=int(input(\"Enter the marks of English: \"))\n",
    "sub2=int(input(\"Enter the marks of Maths: \"))\n",
    "sub3=int(input(\"Enter the marks of Science: \"))\n",
    "sub4=int(input(\"Enter the marks of Hindi: \"))\n",
    "sub5=int(input(\"Enter the marks of Social studies: \"))\n",
    "avg=(sub1+sub2+sub3+sub4+sub5)/5\n",
    "print(\"Your Grade is: \")\n",
    "if(avg>=90):\n",
    "    print(\"Grade : A\")\n",
    "elif(avg>=80 and avg<90):\n",
    "    print(\"Grade : B\")\n",
    "elif(avg>=70 and avg<80):\n",
    "    print(\"Grade : C\")\n",
    "elif(avg>=60 and avg<70):\n",
    "    print(\"Grade : D\")\n",
    "else:\n",
    "    print(\"Your Failed....\")"
   ]
  },
  {
   "cell_type": "markdown",
   "metadata": {},
   "source": [
    "# Question 2:"
   ]
  },
  {
   "cell_type": "markdown",
   "metadata": {},
   "source": [
    "Use For Loop to print Prime Numbers in between 1 to 1000"
   ]
  },
  {
   "cell_type": "code",
   "execution_count": 42,
   "metadata": {},
   "outputs": [
    {
     "name": "stdout",
     "output_type": "stream",
     "text": [
      "2\n",
      "3\n",
      "5\n",
      "7\n",
      "11\n",
      "13\n",
      "17\n",
      "19\n",
      "23\n",
      "29\n",
      "31\n",
      "37\n",
      "41\n",
      "43\n",
      "47\n",
      "53\n",
      "59\n",
      "61\n",
      "67\n",
      "71\n",
      "73\n",
      "79\n",
      "83\n",
      "89\n",
      "97\n",
      "101\n",
      "103\n",
      "107\n",
      "109\n",
      "113\n",
      "127\n",
      "131\n",
      "137\n",
      "139\n",
      "149\n",
      "151\n",
      "157\n",
      "163\n",
      "167\n",
      "173\n",
      "179\n",
      "181\n",
      "191\n",
      "193\n",
      "197\n",
      "199\n",
      "211\n",
      "223\n",
      "227\n",
      "229\n",
      "233\n",
      "239\n",
      "241\n",
      "251\n",
      "257\n",
      "263\n",
      "269\n",
      "271\n",
      "277\n",
      "281\n",
      "283\n",
      "293\n",
      "307\n",
      "311\n",
      "313\n",
      "317\n",
      "331\n",
      "337\n",
      "347\n",
      "349\n",
      "353\n",
      "359\n",
      "367\n",
      "373\n",
      "379\n",
      "383\n",
      "389\n",
      "397\n",
      "401\n",
      "409\n",
      "419\n",
      "421\n",
      "431\n",
      "433\n",
      "439\n",
      "443\n",
      "449\n",
      "457\n",
      "461\n",
      "463\n",
      "467\n",
      "479\n",
      "487\n",
      "491\n",
      "499\n",
      "503\n",
      "509\n",
      "521\n",
      "523\n",
      "541\n",
      "547\n",
      "557\n",
      "563\n",
      "569\n",
      "571\n",
      "577\n",
      "587\n",
      "593\n",
      "599\n",
      "601\n",
      "607\n",
      "613\n",
      "617\n",
      "619\n",
      "631\n",
      "641\n",
      "643\n",
      "647\n",
      "653\n",
      "659\n",
      "661\n",
      "673\n",
      "677\n",
      "683\n",
      "691\n",
      "701\n",
      "709\n",
      "719\n",
      "727\n",
      "733\n",
      "739\n",
      "743\n",
      "751\n",
      "757\n",
      "761\n",
      "769\n",
      "773\n",
      "787\n",
      "797\n",
      "809\n",
      "811\n",
      "821\n",
      "823\n",
      "827\n",
      "829\n",
      "839\n",
      "853\n",
      "857\n",
      "859\n",
      "863\n",
      "877\n",
      "881\n",
      "883\n",
      "887\n",
      "907\n",
      "911\n",
      "919\n",
      "929\n",
      "937\n",
      "941\n",
      "947\n",
      "953\n",
      "967\n",
      "971\n",
      "977\n",
      "983\n",
      "991\n",
      "997\n"
     ]
    }
   ],
   "source": [
    "lower=1\n",
    "upper=1000\n",
    "for num in range(lower,upper+1):\n",
    "    if num>1:\n",
    "        for i in range(2,num):\n",
    "            if (num % i) ==0:\n",
    "                break\n",
    "        else:\n",
    "                print(num)"
   ]
  },
  {
   "cell_type": "markdown",
   "metadata": {},
   "source": [
    "# Question 3:"
   ]
  },
  {
   "cell_type": "markdown",
   "metadata": {},
   "source": [
    "Write a program for printing the tables from 1,10 using Nested For loop"
   ]
  },
  {
   "cell_type": "code",
   "execution_count": 61,
   "metadata": {},
   "outputs": [
    {
     "name": "stdout",
     "output_type": "stream",
     "text": [
      "Enter the number: 4\n",
      "Multiplication table of  4\n",
      "4 X 1 = 4\n",
      "4 X 2 = 8\n",
      "4 X 3 = 12\n",
      "4 X 4 = 16\n",
      "4 X 5 = 20\n",
      "4 X 6 = 24\n",
      "4 X 7 = 28\n",
      "4 X 8 = 32\n",
      "4 X 9 = 36\n",
      "4 X 10 = 40\n"
     ]
    }
   ],
   "source": [
    "number=int(input(\"Enter the number: \"))\n",
    "print(\"Multiplication table of \",number)\n",
    "for i in range(1,11):\n",
    "    print(number,\"X\",i,\"=\",number*i)"
   ]
  },
  {
   "cell_type": "code",
   "execution_count": 62,
   "metadata": {},
   "outputs": [
    {
     "name": "stdout",
     "output_type": "stream",
     "text": [
      "Enter the number: 7\n",
      "Multiplication table of  7\n",
      "7 X 1 = 7\n",
      "7 X 2 = 14\n",
      "7 X 3 = 21\n",
      "7 X 4 = 28\n",
      "7 X 5 = 35\n",
      "7 X 6 = 42\n",
      "7 X 7 = 49\n",
      "7 X 8 = 56\n",
      "7 X 9 = 63\n",
      "7 X 10 = 70\n"
     ]
    }
   ],
   "source": [
    "number=int(input(\"Enter the number: \"))\n",
    "print(\"Multiplication table of \",number)\n",
    "for i in range(1,11):\n",
    "    print(number,\"X\",i,\"=\",number*i)"
   ]
  },
  {
   "cell_type": "markdown",
   "metadata": {},
   "source": [
    "# Question 4:"
   ]
  },
  {
   "cell_type": "markdown",
   "metadata": {},
   "source": [
    "Write a program Print X Prime Numbers using While Loop starting from 0, and take the Input of X from the user"
   ]
  },
  {
   "cell_type": "code",
   "execution_count": 59,
   "metadata": {},
   "outputs": [
    {
     "name": "stdout",
     "output_type": "stream",
     "text": [
      "Please enter the maximum range :20\n",
      "How many prime number you want?10\n",
      "The first 10 Prime numbers : [2, 3, 5, 7, 9, 11, 13, 15, 17, 19]\n"
     ]
    }
   ],
   "source": [
    "n=int(input(\"Please enter the maximum range :\"))\n",
    "Number=2\n",
    "p=[]\n",
    "m=int(input(\"How many prime number you want?\"))\n",
    "while(Number<=n):\n",
    "    count=0\n",
    "    i=2\n",
    "    while(i<=Number//2):\n",
    "        if(Number%i==0):\n",
    "            count=count+1\n",
    "        break\n",
    "        i=i+1\n",
    "    if(count==0):\n",
    "        p.append(Number)\n",
    "    Number=Number+1\n",
    "    if len(p)==m:\n",
    "        break\n",
    "print(\"The first\",m,\"Prime numbers :\",p)"
   ]
  }
 ],
 "metadata": {
  "kernelspec": {
   "display_name": "Python 3",
   "language": "python",
   "name": "python3"
  },
  "language_info": {
   "codemirror_mode": {
    "name": "ipython",
    "version": 3
   },
   "file_extension": ".py",
   "mimetype": "text/x-python",
   "name": "python",
   "nbconvert_exporter": "python",
   "pygments_lexer": "ipython3",
   "version": "3.8.3"
  }
 },
 "nbformat": 4,
 "nbformat_minor": 4
}
